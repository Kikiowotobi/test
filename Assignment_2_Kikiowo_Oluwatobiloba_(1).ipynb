{
  "cells": [
    {
      "cell_type": "markdown",
      "metadata": {
        "id": "view-in-github",
        "colab_type": "text"
      },
      "source": [
        "<a href=\"https://colab.research.google.com/github/Kikiowotobi/test/blob/main/Assignment_2_Kikiowo_Oluwatobiloba_(1).ipynb\" target=\"_parent\"><img src=\"https://colab.research.google.com/assets/colab-badge.svg\" alt=\"Open In Colab\"/></a>"
      ]
    },
    {
      "cell_type": "code",
      "execution_count": null,
      "id": "35b4e176",
      "metadata": {
        "id": "35b4e176"
      },
      "outputs": [],
      "source": [
        "import requests\n",
        "from bs4 import BeautifulSoup\n",
        "import pandas as pd\n",
        "import time\n",
        "import random\n",
        "\n",
        "# Function to scrape IMDb for movie ratings\n",
        "def scrape_imdb(year, page):\n",
        "    base_url = f'https://www.imdb.com/search/title/?release_date={year}&sort=num_votes,desc&page={page}'\n",
        "    headers = {'User-Agent': 'Mozilla/5.0 (Windows NT 10.0; Win64; x64) AppleWebKit/537.36 (KHTML, like Gecko) Chrome/91.0.4472.124 Safari/537.36'}\n",
        "\n",
        "    # Send a GET request to the URL\n",
        "    response = requests.get(base_url, headers=headers)\n",
        "\n",
        "    # Check if the request was successful (status code 200)\n",
        "    if response.status_code == 200:\n",
        "        soup = BeautifulSoup(response.text, 'html.parser')\n",
        "\n",
        "        # Extract information based on the structure of the IMDb page\n",
        "\n",
        "        movie_list = soup.find_all('div', class_='lister-item')\n",
        "\n",
        "        for movie in movie_list:\n",
        "            title = movie.h3.a.text\n",
        "            imdb_rating = movie.strong.text\n",
        "            metascore = movie.find('span', class_='metascore').text.strip() if movie.find('span', class_='metascore') else 'N/A'\n",
        "\n",
        "            # Print or store the information as needed\n",
        "            print(f'Title: {title}, IMDb Rating: {imdb_rating}, Metascore: {metascore}')\n",
        "\n",
        "    else:\n",
        "        # Throw a warning for non-200 status codes\n",
        "        print(f'Warning: Non-200 status code ({response.status_code}) for {base_url}')\n",
        "\n",
        "\n"
      ]
    },
    {
      "cell_type": "code",
      "execution_count": null,
      "id": "f1e35f82",
      "metadata": {
        "id": "f1e35f82"
      },
      "outputs": [],
      "source": [
        "# Define the range of years and pages\n",
        "years_url = range(2010, 2021)\n",
        "pages = range(1, 6)  # You may need to adjust the number of pages based on the actual structure of the IMDb page\n",
        "\n",
        "# Counter for the number of requests\n",
        "request_count = 0\n",
        "\n",
        "# Loop through the years\n",
        "for year in years_url:\n",
        "    # Loop through the pages\n",
        "    for page in pages:\n",
        "        # Call the scraping function\n",
        "        scrape_imdb(year, page)\n",
        "\n",
        "        # Increment the request count\n",
        "        request_count += 1\n",
        "\n",
        "        # Pause the loop for a time interval between 8 and 15 seconds\n",
        "        time.sleep(random.uniform(8, 15))\n",
        "\n",
        "        # Break the loop if the number of requests is greater than 70\n",
        "        if request_count >= 70:\n",
        "            break\n",
        "\n",
        "    if request_count >= 70:\n",
        "        break"
      ]
    },
    {
      "cell_type": "code",
      "execution_count": null,
      "id": "49749246",
      "metadata": {
        "id": "49749246",
        "outputId": "77de7b81-ebe0-4b4a-9ede-786324399bcc"
      },
      "outputs": [
        {
          "ename": "TypeError",
          "evalue": "scrape_imdb() takes 2 positional arguments but 3 were given",
          "output_type": "error",
          "traceback": [
            "\u001b[1;31m---------------------------------------------------------------------------\u001b[0m",
            "\u001b[1;31mTypeError\u001b[0m                                 Traceback (most recent call last)",
            "\u001b[1;32m~\\AppData\\Local\\Temp\\ipykernel_23284\\3455578249.py\u001b[0m in \u001b[0;36m<module>\u001b[1;34m\u001b[0m\n\u001b[0;32m     15\u001b[0m     \u001b[1;32mfor\u001b[0m \u001b[0mpage\u001b[0m \u001b[1;32min\u001b[0m \u001b[0mpages\u001b[0m\u001b[1;33m:\u001b[0m\u001b[1;33m\u001b[0m\u001b[1;33m\u001b[0m\u001b[0m\n\u001b[0;32m     16\u001b[0m         \u001b[1;31m# Call the scraping function and update the DataFrame\u001b[0m\u001b[1;33m\u001b[0m\u001b[1;33m\u001b[0m\u001b[0m\n\u001b[1;32m---> 17\u001b[1;33m         \u001b[0mmovie_data\u001b[0m \u001b[1;33m=\u001b[0m \u001b[0mscrape_imdb\u001b[0m\u001b[1;33m(\u001b[0m\u001b[0myear\u001b[0m\u001b[1;33m,\u001b[0m \u001b[0mpage\u001b[0m\u001b[1;33m,\u001b[0m \u001b[0mmovie_data\u001b[0m\u001b[1;33m)\u001b[0m\u001b[1;33m\u001b[0m\u001b[1;33m\u001b[0m\u001b[0m\n\u001b[0m\u001b[0;32m     18\u001b[0m \u001b[1;33m\u001b[0m\u001b[0m\n\u001b[0;32m     19\u001b[0m         \u001b[1;31m# Increment the request count\u001b[0m\u001b[1;33m\u001b[0m\u001b[1;33m\u001b[0m\u001b[0m\n",
            "\u001b[1;31mTypeError\u001b[0m: scrape_imdb() takes 2 positional arguments but 3 were given"
          ]
        }
      ],
      "source": [
        "# Create an empty DataFrame to hold the information\n",
        "columns = ['Title', 'Year', 'IMDb Rating', 'Metascore', 'Votes']\n",
        "movie_data = pd.DataFrame(columns=columns)\n",
        "\n",
        "# Define the range of years and pages\n",
        "years_url = range(2010, 2021)\n",
        "pages = range(1, 6)  # You may need to adjust the number of pages based on the actual structure of the IMDb page\n",
        "\n",
        "# Counter for the number of requests\n",
        "request_count = 0\n",
        "\n",
        "# Loop through the years\n",
        "for year in years_url:\n",
        "    # Loop through the pages\n",
        "    for page in pages:\n",
        "        # Call the scraping function and update the DataFrame\n",
        "        movie_data = scrape_imdb(year, page, movie_data)\n",
        "\n",
        "        # Increment the request count\n",
        "        request_count += 1\n",
        "\n",
        "        # Pause the loop for a time interval between 8 and 15 seconds\n",
        "        time.sleep(random.uniform(8, 15))\n",
        "\n",
        "        # Break the loop if the number of requests is greater than 70\n",
        "        if request_count >= 70:\n",
        "            break\n",
        "\n",
        "    if request_count >= 70:\n",
        "        break\n",
        "\n",
        "# Write the DataFrame to a CSV file\n",
        "movie_data.to_csv('movie_ratings.csv', index=False)"
      ]
    },
    {
      "cell_type": "code",
      "execution_count": null,
      "id": "d0133dc8",
      "metadata": {
        "id": "d0133dc8",
        "outputId": "ec6985ac-0fe3-40d4-9e45-9892406e3651"
      },
      "outputs": [
        {
          "data": {
            "image/png": "[encoded data removed]",
            "text/plain": [
              "<Figure size 1000x600 with 2 Axes>"
            ]
          },
          "metadata": {},
          "output_type": "display_data"
        }
      ],
      "source": [
        "import pandas as pd\n",
        "import matplotlib.pyplot as plt\n",
        "\n",
        "# Load the data from the CSV file\n",
        "movie_data = pd.read_csv('movie_ratings.csv')\n",
        "\n",
        "# Convert IMDb Rating and Metascore columns to numeric\n",
        "movie_data['IMDb Rating'] = pd.to_numeric(movie_data['IMDb Rating'], errors='coerce')\n",
        "movie_data['Metascore'] = pd.to_numeric(movie_data['Metascore'], errors='coerce')\n",
        "\n",
        "# Group by Year and calculate the average IMDb Rating and Metascore\n",
        "average_ratings = movie_data.groupby('Year').agg({'IMDb Rating': 'mean', 'Metascore': 'mean'}).reset_index()\n",
        "\n",
        "# Plotting histograms\n",
        "plt.figure(figsize=(10, 6))\n",
        "\n",
        "# Histogram for IMDb Rating\n",
        "plt.subplot(1, 2, 1)\n",
        "plt.hist(movie_data['IMDb Rating'], bins=20, color='blue', alpha=0.7)\n",
        "plt.title('IMDb Rating Distribution')\n",
        "plt.xlabel('IMDb Rating')\n",
        "plt.ylabel('Frequency')\n",
        "\n",
        "# Histogram for Metascore\n",
        "plt.subplot(1, 2, 2)\n",
        "plt.hist(movie_data['Metascore'], bins=20, color='green', alpha=0.7)\n",
        "plt.title('Metascore Distribution')\n",
        "plt.xlabel('Metascore')\n",
        "plt.ylabel('Frequency')\n",
        "\n",
        "plt.tight_layout()\n",
        "plt.show()"
      ]
    },
    {
      "cell_type": "code",
      "execution_count": null,
      "id": "4706e67a",
      "metadata": {
        "id": "4706e67a"
      },
      "outputs": [],
      "source": []
    }
  ],
  "metadata": {
    "kernelspec": {
      "display_name": "Python 3 (ipykernel)",
      "language": "python",
      "name": "python3"
    },
    "language_info": {
      "codemirror_mode": {
        "name": "ipython",
        "version": 3
      },
      "file_extension": ".py",
      "mimetype": "text/x-python",
      "name": "python",
      "nbconvert_exporter": "python",
      "pygments_lexer": "ipython3",
      "version": "3.9.13"
    },
    "colab": {
      "provenance": [],
      "include_colab_link": true
    }
  },
  "nbformat": 4,
  "nbformat_minor": 5
}